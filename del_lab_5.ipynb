{
  "nbformat": 4,
  "nbformat_minor": 0,
  "metadata": {
    "colab": {
      "provenance": [],
      "authorship_tag": "ABX9TyOhn4ASb2WdFMulVu0iTDLg",
      "include_colab_link": true
    },
    "kernelspec": {
      "name": "python3",
      "display_name": "Python 3"
    },
    "language_info": {
      "name": "python"
    }
  },
  "cells": [
    {
      "cell_type": "markdown",
      "metadata": {
        "id": "view-in-github",
        "colab_type": "text"
      },
      "source": [
        "<a href=\"https://colab.research.google.com/github/deepali9976/DEL_LAB_1BM22AI041/blob/main/del_lab_5.ipynb\" target=\"_parent\"><img src=\"https://colab.research.google.com/assets/colab-badge.svg\" alt=\"Open In Colab\"/></a>"
      ]
    },
    {
      "cell_type": "code",
      "execution_count": 1,
      "metadata": {
        "colab": {
          "base_uri": "https://localhost:8080/"
        },
        "id": "o2tdXt8SSkNz",
        "outputId": "0e16f597-51e4-49e2-8dca-4fa478846685"
      },
      "outputs": [
        {
          "output_type": "stream",
          "name": "stdout",
          "text": [
            "Training with Gradient Descent\n",
            "Accuracy with Gradient Descent: 0.9750\n",
            "\n",
            "Training with Stochastic Gradient Descent...\n",
            "Accuracy with Stochastic Gradient Descent: 0.9950\n"
          ]
        }
      ],
      "source": [
        "import numpy as np\n",
        "from sklearn.neural_network import MLPClassifier\n",
        "from sklearn.datasets import make_moons\n",
        "from sklearn.model_selection import train_test_split\n",
        "from sklearn.metrics import accuracy_score\n",
        "\n",
        "X, y = make_moons(n_samples=1000, noise=0.2, random_state=42)\n",
        "X_train, X_test, y_train, y_test = train_test_split(X, y, test_size=0.2, random_state=42)\n",
        "\n",
        "print(\"Training with Gradient Descent\")\n",
        "model_gd = MLPClassifier(\n",
        "    hidden_layer_sizes=(10, 10),\n",
        "    activation='relu',\n",
        "    solver='sgd',\n",
        "    learning_rate_init=0.01,\n",
        "    max_iter=1000,\n",
        "    batch_size=len(X_train),\n",
        "    random_state=42\n",
        ")\n",
        "model_gd.fit(X_train, y_train)\n",
        "y_pred_gd = model_gd.predict(X_test)\n",
        "accuracy_gd = accuracy_score(y_test, y_pred_gd)\n",
        "print(f\"Accuracy with Gradient Descent: {accuracy_gd:.4f}\")\n",
        "\n",
        "print(\"\\nTraining with Stochastic Gradient Descent...\")\n",
        "model_sgd = MLPClassifier(\n",
        "    hidden_layer_sizes=(10, 10),\n",
        "    activation='relu',\n",
        "    solver='sgd',\n",
        "    learning_rate_init=0.01,\n",
        "    max_iter=1000,\n",
        "    batch_size=32,\n",
        "    random_state=42\n",
        ")\n",
        "model_sgd.fit(X_train, y_train)\n",
        "y_pred_sgd = model_sgd.predict(X_test)\n",
        "accuracy_sgd = accuracy_score(y_test, y_pred_sgd)\n",
        "print(f\"Accuracy with Stochastic Gradient Descent: {accuracy_sgd:.4f}\")\n"
      ]
    },
    {
      "cell_type": "code",
      "source": [],
      "metadata": {
        "id": "LiUu-h-cSp3Z"
      },
      "execution_count": null,
      "outputs": []
    }
  ]
}