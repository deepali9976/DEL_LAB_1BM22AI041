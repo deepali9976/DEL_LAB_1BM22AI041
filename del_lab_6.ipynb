{
  "nbformat": 4,
  "nbformat_minor": 0,
  "metadata": {
    "colab": {
      "provenance": [],
      "authorship_tag": "ABX9TyNfbbW1vME8X/irthjvohHB",
      "include_colab_link": true
    },
    "kernelspec": {
      "name": "python3",
      "display_name": "Python 3"
    },
    "language_info": {
      "name": "python"
    }
  },
  "cells": [
    {
      "cell_type": "markdown",
      "metadata": {
        "id": "view-in-github",
        "colab_type": "text"
      },
      "source": [
        "<a href=\"https://colab.research.google.com/github/deepali9976/DEL_LAB_1BM22AI041/blob/main/del_lab_6.ipynb\" target=\"_parent\"><img src=\"https://colab.research.google.com/assets/colab-badge.svg\" alt=\"Open In Colab\"/></a>"
      ]
    },
    {
      "cell_type": "markdown",
      "source": [
        "multitask learning with\n",
        "early stopping in a neural network training scenario.\n",
        "Week6 6Implement a program on Adversarial training, tangent distance, tangent prop\n",
        "and tangent classifier. [Any three to be implemented]."
      ],
      "metadata": {
        "id": "-S9_-kwFJh1H"
      }
    },
    {
      "cell_type": "code",
      "execution_count": 1,
      "metadata": {
        "id": "0FNpOe47E68b",
        "colab": {
          "base_uri": "https://localhost:8080/"
        },
        "outputId": "20469754-ba44-41c6-82e2-9d5fdaf6c7cd"
      },
      "outputs": [
        {
          "output_type": "stream",
          "name": "stdout",
          "text": [
            "Epoch 1/50\n",
            "\u001b[1m25/25\u001b[0m \u001b[32m━━━━━━━━━━━━━━━━━━━━\u001b[0m\u001b[37m\u001b[0m \u001b[1m3s\u001b[0m 22ms/step - loss: 3.0288 - task1_accuracy: 0.4910 - task1_loss: 0.7017 - task2_accuracy: 0.1227 - task2_loss: 2.3271 - val_loss: 2.9974 - val_task1_accuracy: 0.5100 - val_task1_loss: 0.6921 - val_task2_accuracy: 0.1600 - val_task2_loss: 2.3037\n",
            "Epoch 2/50\n",
            "\u001b[1m25/25\u001b[0m \u001b[32m━━━━━━━━━━━━━━━━━━━━\u001b[0m\u001b[37m\u001b[0m \u001b[1m0s\u001b[0m 3ms/step - loss: 3.0049 - task1_accuracy: 0.4758 - task1_loss: 0.6964 - task2_accuracy: 0.1198 - task2_loss: 2.3084 - val_loss: 2.9977 - val_task1_accuracy: 0.5300 - val_task1_loss: 0.6924 - val_task2_accuracy: 0.1450 - val_task2_loss: 2.3061\n",
            "Epoch 3/50\n",
            "\u001b[1m25/25\u001b[0m \u001b[32m━━━━━━━━━━━━━━━━━━━━\u001b[0m\u001b[37m\u001b[0m \u001b[1m0s\u001b[0m 4ms/step - loss: 3.0050 - task1_accuracy: 0.5112 - task1_loss: 0.6940 - task2_accuracy: 0.1102 - task2_loss: 2.3110 - val_loss: 2.9999 - val_task1_accuracy: 0.5000 - val_task1_loss: 0.6933 - val_task2_accuracy: 0.1100 - val_task2_loss: 2.3087\n",
            "Epoch 4/50\n",
            "\u001b[1m25/25\u001b[0m \u001b[32m━━━━━━━━━━━━━━━━━━━━\u001b[0m\u001b[37m\u001b[0m \u001b[1m0s\u001b[0m 4ms/step - loss: 2.9903 - task1_accuracy: 0.5124 - task1_loss: 0.6930 - task2_accuracy: 0.1039 - task2_loss: 2.2974 - val_loss: 3.0046 - val_task1_accuracy: 0.4750 - val_task1_loss: 0.6957 - val_task2_accuracy: 0.1050 - val_task2_loss: 2.3110\n",
            "Epoch 5/50\n",
            "\u001b[1m25/25\u001b[0m \u001b[32m━━━━━━━━━━━━━━━━━━━━\u001b[0m\u001b[37m\u001b[0m \u001b[1m0s\u001b[0m 3ms/step - loss: 2.9821 - task1_accuracy: 0.5032 - task1_loss: 0.6937 - task2_accuracy: 0.1284 - task2_loss: 2.2884 - val_loss: 3.0076 - val_task1_accuracy: 0.4650 - val_task1_loss: 0.6965 - val_task2_accuracy: 0.0850 - val_task2_loss: 2.3145\n",
            "Epoch 6/50\n",
            "\u001b[1m25/25\u001b[0m \u001b[32m━━━━━━━━━━━━━━━━━━━━\u001b[0m\u001b[37m\u001b[0m \u001b[1m0s\u001b[0m 3ms/step - loss: 2.9908 - task1_accuracy: 0.5282 - task1_loss: 0.6938 - task2_accuracy: 0.1190 - task2_loss: 2.2969 - val_loss: 3.0121 - val_task1_accuracy: 0.4600 - val_task1_loss: 0.6980 - val_task2_accuracy: 0.0800 - val_task2_loss: 2.3170\n"
          ]
        }
      ],
      "source": [
        "import pandas as pd\n",
        "import numpy as np\n",
        "from sklearn.model_selection import train_test_split\n",
        "from sklearn.preprocessing import LabelEncoder, StandardScaler\n",
        "from tensorflow.keras.models import Model\n",
        "from tensorflow.keras.layers import Input, Dense, Dropout\n",
        "from tensorflow.keras.callbacks import EarlyStopping\n",
        "from tensorflow.keras.utils import to_categorical\n",
        "\n",
        "\n",
        "np.random.seed(42)\n",
        "data = pd.DataFrame({\n",
        "    'feature1': np.random.rand(1000),\n",
        "    'feature2': np.random.rand(1000),\n",
        "    'task1_label': np.random.randint(0, 2, 1000),  # Binary classification\n",
        "    'task2_label': np.random.randint(0, 10, 1000)  # Multiclass classification\n",
        "})\n",
        "\n",
        "\n",
        "X = data[['feature1', 'feature2']].values\n",
        "y_task1 = data['task1_label'].values\n",
        "y_task2 = to_categorical(data['task2_label'].values, num_classes=10)\n",
        "\n",
        "scaler = StandardScaler()\n",
        "X = scaler.fit_transform(X)\n",
        "\n",
        "X_train, X_val, y_task1_train, y_task1_val, y_task2_train, y_task2_val = train_test_split(\n",
        "    X, y_task1, y_task2, test_size=0.2, random_state=42\n",
        ")\n",
        "\n",
        "input_layer = Input(shape=(2,))\n",
        "shared_layer = Dense(64, activation='relu')(input_layer)\n",
        "shared_layer = Dropout(0.2)(shared_layer)\n",
        "\n",
        "task1_output = Dense(1, activation='sigmoid', name='task1')(shared_layer)\n",
        "task2_output = Dense(10, activation='softmax', name='task2')(shared_layer)\n",
        "\n",
        "model = Model(inputs=input_layer, outputs=[task1_output, task2_output])\n",
        "\n",
        "model.compile(\n",
        "    optimizer='adam',\n",
        "    loss={'task1': 'binary_crossentropy', 'task2': 'categorical_crossentropy'},\n",
        "    metrics={'task1': 'accuracy', 'task2': 'accuracy'}\n",
        ")\n",
        "\n",
        "\n",
        "early_stopping = EarlyStopping(monitor='val_loss', patience=5, restore_best_weights=True)\n",
        "\n",
        "\n",
        "history = model.fit(\n",
        "    X_train,\n",
        "    {'task1': y_task1_train, 'task2': y_task2_train},\n",
        "    validation_data=(X_val, {'task1': y_task1_val, 'task2': y_task2_val}),\n",
        "    epochs=50,\n",
        "    batch_size=32,\n",
        "    callbacks=[early_stopping],\n",
        "    verbose=1\n",
        ")\n"
      ]
    },
    {
      "cell_type": "markdown",
      "source": [],
      "metadata": {
        "id": "Pr4cKQrsJ6WA"
      }
    },
    {
      "cell_type": "code",
      "source": [
        "import tensorflow as tf"
      ],
      "metadata": {
        "id": "exPvBQquJ6rB"
      },
      "execution_count": 3,
      "outputs": []
    },
    {
      "cell_type": "code",
      "source": [
        "def generate_adversarial_examples(model, X, y, epsilon=0.1):\n",
        "    X_adv = X.copy()\n",
        "    for i in range(len(X)):\n",
        "        X_sample = tf.convert_to_tensor(X[i:i+1], dtype=tf.float32)\n",
        "        y_sample = tf.convert_to_tensor(y[i:i+1], dtype=tf.float32)\n",
        "        with tf.GradientTape() as tape:\n",
        "            tape.watch(X_sample)\n",
        "            predictions = model(X_sample)\n",
        "            loss = tf.keras.losses.categorical_crossentropy(y_sample, predictions)\n",
        "        gradients = tape.gradient(loss, X_sample)\n",
        "        X_adv[i] += epsilon * np.sign(tf.squeeze(gradients).numpy())  # Fix shape mismatch\n",
        "    return X_adv\n",
        "\n",
        "# Train with adversarial examples\n",
        "X_adv_train = generate_adversarial_examples(model, X_train, y_train)\n",
        "history = model.fit(\n",
        "    np.vstack([X_train, X_adv_train]),\n",
        "    np.vstack([y_train, y_train]),\n",
        "    validation_data=(X_val, y_val),\n",
        "    epochs=10,\n",
        "    batch_size=8,\n",
        "    verbose=1\n",
        ")\n"
      ],
      "metadata": {
        "colab": {
          "base_uri": "https://localhost:8080/"
        },
        "id": "vGHhF8ymJtwU",
        "outputId": "91a49286-95a0-47d8-fc5f-68c0ae74ba9c"
      },
      "execution_count": 9,
      "outputs": [
        {
          "output_type": "stream",
          "name": "stdout",
          "text": [
            "Epoch 1/10\n",
            "\u001b[1m20/20\u001b[0m \u001b[32m━━━━━━━━━━━━━━━━━━━━\u001b[0m\u001b[37m\u001b[0m \u001b[1m3s\u001b[0m 27ms/step - accuracy: 0.4935 - loss: 0.6941 - val_accuracy: 0.4500 - val_loss: 0.7145\n",
            "Epoch 2/10\n",
            "\u001b[1m20/20\u001b[0m \u001b[32m━━━━━━━━━━━━━━━━━━━━\u001b[0m\u001b[37m\u001b[0m \u001b[1m0s\u001b[0m 7ms/step - accuracy: 0.4859 - loss: 0.7036 - val_accuracy: 0.4500 - val_loss: 0.7253\n",
            "Epoch 3/10\n",
            "\u001b[1m20/20\u001b[0m \u001b[32m━━━━━━━━━━━━━━━━━━━━\u001b[0m\u001b[37m\u001b[0m \u001b[1m0s\u001b[0m 6ms/step - accuracy: 0.5577 - loss: 0.6854 - val_accuracy: 0.4500 - val_loss: 0.7347\n",
            "Epoch 4/10\n",
            "\u001b[1m20/20\u001b[0m \u001b[32m━━━━━━━━━━━━━━━━━━━━\u001b[0m\u001b[37m\u001b[0m \u001b[1m0s\u001b[0m 7ms/step - accuracy: 0.5571 - loss: 0.6780 - val_accuracy: 0.4500 - val_loss: 0.7444\n",
            "Epoch 5/10\n",
            "\u001b[1m20/20\u001b[0m \u001b[32m━━━━━━━━━━━━━━━━━━━━\u001b[0m\u001b[37m\u001b[0m \u001b[1m0s\u001b[0m 15ms/step - accuracy: 0.5598 - loss: 0.6815 - val_accuracy: 0.4500 - val_loss: 0.7503\n",
            "Epoch 6/10\n",
            "\u001b[1m20/20\u001b[0m \u001b[32m━━━━━━━━━━━━━━━━━━━━\u001b[0m\u001b[37m\u001b[0m \u001b[1m0s\u001b[0m 3ms/step - accuracy: 0.6325 - loss: 0.6534 - val_accuracy: 0.4500 - val_loss: 0.7581\n",
            "Epoch 7/10\n",
            "\u001b[1m20/20\u001b[0m \u001b[32m━━━━━━━━━━━━━━━━━━━━\u001b[0m\u001b[37m\u001b[0m \u001b[1m0s\u001b[0m 3ms/step - accuracy: 0.5839 - loss: 0.6656 - val_accuracy: 0.4500 - val_loss: 0.7608\n",
            "Epoch 8/10\n",
            "\u001b[1m20/20\u001b[0m \u001b[32m━━━━━━━━━━━━━━━━━━━━\u001b[0m\u001b[37m\u001b[0m \u001b[1m0s\u001b[0m 3ms/step - accuracy: 0.5828 - loss: 0.6681 - val_accuracy: 0.4500 - val_loss: 0.7642\n",
            "Epoch 9/10\n",
            "\u001b[1m20/20\u001b[0m \u001b[32m━━━━━━━━━━━━━━━━━━━━\u001b[0m\u001b[37m\u001b[0m \u001b[1m0s\u001b[0m 4ms/step - accuracy: 0.5665 - loss: 0.6626 - val_accuracy: 0.4500 - val_loss: 0.7684\n",
            "Epoch 10/10\n",
            "\u001b[1m20/20\u001b[0m \u001b[32m━━━━━━━━━━━━━━━━━━━━\u001b[0m\u001b[37m\u001b[0m \u001b[1m0s\u001b[0m 4ms/step - accuracy: 0.6265 - loss: 0.6620 - val_accuracy: 0.4500 - val_loss: 0.7707\n"
          ]
        }
      ]
    },
    {
      "cell_type": "code",
      "source": [
        "def tangent_regularization(model, X, tangent_vectors, weight=0.1):\n",
        "    tangent_loss = 0\n",
        "    for i in range(len(X)):\n",
        "        X_sample = tf.convert_to_tensor(X[i:i+1], dtype=tf.float32)\n",
        "        tangent_vector = tf.convert_to_tensor(tangent_vectors[i:i+1], dtype=tf.float32)\n",
        "        with tf.GradientTape() as tape:\n",
        "            tape.watch(X_sample)\n",
        "            predictions = model(X_sample)\n",
        "        gradients = tape.gradient(predictions, X_sample)\n",
        "        tangent_loss += tf.reduce_mean(tf.square(tf.reduce_sum(gradients * tangent_vector)))\n",
        "    return weight * tangent_loss / len(X)\n",
        "\n",
        "tangent_vectors = np.random.normal(0, 0.01, X_train.shape)\n",
        "\n",
        "for epoch in range(5):\n",
        "    with tf.GradientTape() as tape:\n",
        "        predictions = model(X_train)\n",
        "        task_loss = tf.reduce_mean(tf.keras.losses.categorical_crossentropy(y_train, predictions))\n",
        "        tangent_loss = tangent_regularization(model, X_train, tangent_vectors)\n",
        "        total_loss = task_loss + tangent_loss\n",
        "    gradients = tape.gradient(total_loss, model.trainable_variables)\n",
        "    model.optimizer.apply_gradients(zip(gradients, model.trainable_variables))\n",
        "    print(f\"Epoch {epoch+1}, Loss: {total_loss.numpy():.4f}\")\n",
        "\n"
      ],
      "metadata": {
        "colab": {
          "base_uri": "https://localhost:8080/"
        },
        "id": "skHThdchJ1oB",
        "outputId": "6dfb1fb9-29d5-4bc1-9b7f-a52dc6be0302"
      },
      "execution_count": 10,
      "outputs": [
        {
          "output_type": "stream",
          "name": "stdout",
          "text": [
            "Epoch 1, Loss: 0.6626\n",
            "Epoch 2, Loss: 0.6625\n",
            "Epoch 3, Loss: 0.6625\n",
            "Epoch 4, Loss: 0.6624\n",
            "Epoch 5, Loss: 0.6624\n"
          ]
        }
      ]
    },
    {
      "cell_type": "code",
      "source": [],
      "metadata": {
        "colab": {
          "base_uri": "https://localhost:8080/",
          "height": 356
        },
        "id": "OhUNbzDbKRbY",
        "outputId": "a67f5daa-1027-4c45-cf3d-c491cf80cb2d"
      },
      "execution_count": 12,
      "outputs": [
        {
          "output_type": "error",
          "ename": "LinAlgError",
          "evalue": "Incompatible dimensions",
          "traceback": [
            "\u001b[0;31m---------------------------------------------------------------------------\u001b[0m",
            "\u001b[0;31mLinAlgError\u001b[0m                               Traceback (most recent call last)",
            "\u001b[0;32m<ipython-input-12-b758652271ec>\u001b[0m in \u001b[0;36m<cell line: 55>\u001b[0;34m()\u001b[0m\n\u001b[1;32m     53\u001b[0m \u001b[0mclassifier\u001b[0m\u001b[0;34m.\u001b[0m\u001b[0mfit\u001b[0m\u001b[0;34m(\u001b[0m\u001b[0mX_train\u001b[0m\u001b[0;34m,\u001b[0m \u001b[0my_train\u001b[0m\u001b[0;34m)\u001b[0m\u001b[0;34m\u001b[0m\u001b[0;34m\u001b[0m\u001b[0m\n\u001b[1;32m     54\u001b[0m \u001b[0;34m\u001b[0m\u001b[0m\n\u001b[0;32m---> 55\u001b[0;31m \u001b[0my_pred\u001b[0m \u001b[0;34m=\u001b[0m \u001b[0mclassifier\u001b[0m\u001b[0;34m.\u001b[0m\u001b[0mpredict\u001b[0m\u001b[0;34m(\u001b[0m\u001b[0mX_test\u001b[0m\u001b[0;34m)\u001b[0m\u001b[0;34m\u001b[0m\u001b[0;34m\u001b[0m\u001b[0m\n\u001b[0m\u001b[1;32m     56\u001b[0m \u001b[0maccuracy\u001b[0m \u001b[0;34m=\u001b[0m \u001b[0maccuracy_score\u001b[0m\u001b[0;34m(\u001b[0m\u001b[0my_test\u001b[0m\u001b[0;34m,\u001b[0m \u001b[0my_pred\u001b[0m\u001b[0;34m)\u001b[0m\u001b[0;34m\u001b[0m\u001b[0;34m\u001b[0m\u001b[0m\n\u001b[1;32m     57\u001b[0m \u001b[0mprint\u001b[0m\u001b[0;34m(\u001b[0m\u001b[0;34mf\"Accuracy: {accuracy:.2f}\"\u001b[0m\u001b[0;34m)\u001b[0m\u001b[0;34m\u001b[0m\u001b[0;34m\u001b[0m\u001b[0m\n",
            "\u001b[0;32m<ipython-input-12-b758652271ec>\u001b[0m in \u001b[0;36mpredict\u001b[0;34m(self, X)\u001b[0m\n\u001b[1;32m     29\u001b[0m         \u001b[0mpredictions\u001b[0m \u001b[0;34m=\u001b[0m \u001b[0;34m[\u001b[0m\u001b[0;34m]\u001b[0m\u001b[0;34m\u001b[0m\u001b[0;34m\u001b[0m\u001b[0m\n\u001b[1;32m     30\u001b[0m         \u001b[0;32mfor\u001b[0m \u001b[0mtest_point\u001b[0m \u001b[0;32min\u001b[0m \u001b[0mX\u001b[0m\u001b[0;34m:\u001b[0m\u001b[0;34m\u001b[0m\u001b[0;34m\u001b[0m\u001b[0m\n\u001b[0;32m---> 31\u001b[0;31m             distances = [\n\u001b[0m\u001b[1;32m     32\u001b[0m                 compute_tangent_distance(\n\u001b[1;32m     33\u001b[0m                     \u001b[0mtest_point\u001b[0m\u001b[0;34m,\u001b[0m \u001b[0mtrain_point\u001b[0m\u001b[0;34m,\u001b[0m\u001b[0;34m\u001b[0m\u001b[0;34m\u001b[0m\u001b[0m\n",
            "\u001b[0;32m<ipython-input-12-b758652271ec>\u001b[0m in \u001b[0;36m<listcomp>\u001b[0;34m(.0)\u001b[0m\n\u001b[1;32m     30\u001b[0m         \u001b[0;32mfor\u001b[0m \u001b[0mtest_point\u001b[0m \u001b[0;32min\u001b[0m \u001b[0mX\u001b[0m\u001b[0;34m:\u001b[0m\u001b[0;34m\u001b[0m\u001b[0;34m\u001b[0m\u001b[0m\n\u001b[1;32m     31\u001b[0m             distances = [\n\u001b[0;32m---> 32\u001b[0;31m                 compute_tangent_distance(\n\u001b[0m\u001b[1;32m     33\u001b[0m                     \u001b[0mtest_point\u001b[0m\u001b[0;34m,\u001b[0m \u001b[0mtrain_point\u001b[0m\u001b[0;34m,\u001b[0m\u001b[0;34m\u001b[0m\u001b[0;34m\u001b[0m\u001b[0m\n\u001b[1;32m     34\u001b[0m                     \u001b[0mself\u001b[0m\u001b[0;34m.\u001b[0m\u001b[0m_compute_tangent_vectors\u001b[0m\u001b[0;34m(\u001b[0m\u001b[0mtest_point\u001b[0m\u001b[0;34m)\u001b[0m\u001b[0;34m,\u001b[0m\u001b[0;34m\u001b[0m\u001b[0;34m\u001b[0m\u001b[0m\n",
            "\u001b[0;32m<ipython-input-12-b758652271ec>\u001b[0m in \u001b[0;36mcompute_tangent_distance\u001b[0;34m(x1, x2, tangent_vectors1, tangent_vectors2)\u001b[0m\n\u001b[1;32m      7\u001b[0m \u001b[0;32mdef\u001b[0m \u001b[0mcompute_tangent_distance\u001b[0m\u001b[0;34m(\u001b[0m\u001b[0mx1\u001b[0m\u001b[0;34m,\u001b[0m \u001b[0mx2\u001b[0m\u001b[0;34m,\u001b[0m \u001b[0mtangent_vectors1\u001b[0m\u001b[0;34m,\u001b[0m \u001b[0mtangent_vectors2\u001b[0m\u001b[0;34m)\u001b[0m\u001b[0;34m:\u001b[0m\u001b[0;34m\u001b[0m\u001b[0;34m\u001b[0m\u001b[0m\n\u001b[1;32m      8\u001b[0m     \u001b[0mdelta\u001b[0m \u001b[0;34m=\u001b[0m \u001b[0mx1\u001b[0m \u001b[0;34m-\u001b[0m \u001b[0mx2\u001b[0m\u001b[0;34m\u001b[0m\u001b[0;34m\u001b[0m\u001b[0m\n\u001b[0;32m----> 9\u001b[0;31m     \u001b[0mproj1\u001b[0m \u001b[0;34m=\u001b[0m \u001b[0mnp\u001b[0m\u001b[0;34m.\u001b[0m\u001b[0mlinalg\u001b[0m\u001b[0;34m.\u001b[0m\u001b[0mlstsq\u001b[0m\u001b[0;34m(\u001b[0m\u001b[0mtangent_vectors1\u001b[0m\u001b[0;34m.\u001b[0m\u001b[0mT\u001b[0m\u001b[0;34m,\u001b[0m \u001b[0mdelta\u001b[0m\u001b[0;34m,\u001b[0m \u001b[0mrcond\u001b[0m\u001b[0;34m=\u001b[0m\u001b[0;32mNone\u001b[0m\u001b[0;34m)\u001b[0m\u001b[0;34m[\u001b[0m\u001b[0;36m0\u001b[0m\u001b[0;34m]\u001b[0m\u001b[0;34m\u001b[0m\u001b[0;34m\u001b[0m\u001b[0m\n\u001b[0m\u001b[1;32m     10\u001b[0m     \u001b[0mproj2\u001b[0m \u001b[0;34m=\u001b[0m \u001b[0mnp\u001b[0m\u001b[0;34m.\u001b[0m\u001b[0mlinalg\u001b[0m\u001b[0;34m.\u001b[0m\u001b[0mlstsq\u001b[0m\u001b[0;34m(\u001b[0m\u001b[0mtangent_vectors2\u001b[0m\u001b[0;34m.\u001b[0m\u001b[0mT\u001b[0m\u001b[0;34m,\u001b[0m \u001b[0mdelta\u001b[0m\u001b[0;34m,\u001b[0m \u001b[0mrcond\u001b[0m\u001b[0;34m=\u001b[0m\u001b[0;32mNone\u001b[0m\u001b[0;34m)\u001b[0m\u001b[0;34m[\u001b[0m\u001b[0;36m0\u001b[0m\u001b[0;34m]\u001b[0m\u001b[0;34m\u001b[0m\u001b[0;34m\u001b[0m\u001b[0m\n\u001b[1;32m     11\u001b[0m     \u001b[0morthogonal_delta\u001b[0m \u001b[0;34m=\u001b[0m \u001b[0mdelta\u001b[0m \u001b[0;34m-\u001b[0m \u001b[0;34m(\u001b[0m\u001b[0mtangent_vectors1\u001b[0m \u001b[0;34m@\u001b[0m \u001b[0mproj1\u001b[0m \u001b[0;34m+\u001b[0m \u001b[0mtangent_vectors2\u001b[0m \u001b[0;34m@\u001b[0m \u001b[0mproj2\u001b[0m\u001b[0;34m)\u001b[0m\u001b[0;34m\u001b[0m\u001b[0;34m\u001b[0m\u001b[0m\n",
            "\u001b[0;32m/usr/local/lib/python3.10/dist-packages/numpy/linalg/linalg.py\u001b[0m in \u001b[0;36mlstsq\u001b[0;34m(a, b, rcond)\u001b[0m\n\u001b[1;32m   2295\u001b[0m     \u001b[0mm2\u001b[0m\u001b[0;34m,\u001b[0m \u001b[0mn_rhs\u001b[0m \u001b[0;34m=\u001b[0m \u001b[0mb\u001b[0m\u001b[0;34m.\u001b[0m\u001b[0mshape\u001b[0m\u001b[0;34m[\u001b[0m\u001b[0;34m-\u001b[0m\u001b[0;36m2\u001b[0m\u001b[0;34m:\u001b[0m\u001b[0;34m]\u001b[0m\u001b[0;34m\u001b[0m\u001b[0;34m\u001b[0m\u001b[0m\n\u001b[1;32m   2296\u001b[0m     \u001b[0;32mif\u001b[0m \u001b[0mm\u001b[0m \u001b[0;34m!=\u001b[0m \u001b[0mm2\u001b[0m\u001b[0;34m:\u001b[0m\u001b[0;34m\u001b[0m\u001b[0;34m\u001b[0m\u001b[0m\n\u001b[0;32m-> 2297\u001b[0;31m         \u001b[0;32mraise\u001b[0m \u001b[0mLinAlgError\u001b[0m\u001b[0;34m(\u001b[0m\u001b[0;34m'Incompatible dimensions'\u001b[0m\u001b[0;34m)\u001b[0m\u001b[0;34m\u001b[0m\u001b[0;34m\u001b[0m\u001b[0m\n\u001b[0m\u001b[1;32m   2298\u001b[0m \u001b[0;34m\u001b[0m\u001b[0m\n\u001b[1;32m   2299\u001b[0m     \u001b[0mt\u001b[0m\u001b[0;34m,\u001b[0m \u001b[0mresult_t\u001b[0m \u001b[0;34m=\u001b[0m \u001b[0m_commonType\u001b[0m\u001b[0;34m(\u001b[0m\u001b[0ma\u001b[0m\u001b[0;34m,\u001b[0m \u001b[0mb\u001b[0m\u001b[0;34m)\u001b[0m\u001b[0;34m\u001b[0m\u001b[0;34m\u001b[0m\u001b[0m\n",
            "\u001b[0;31mLinAlgError\u001b[0m: Incompatible dimensions"
          ]
        }
      ]
    },
    {
      "cell_type": "code",
      "source": [],
      "metadata": {
        "id": "uviGVoadKSKM"
      },
      "execution_count": null,
      "outputs": []
    }
  ]
}